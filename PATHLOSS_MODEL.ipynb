{
  "nbformat": 4,
  "nbformat_minor": 0,
  "metadata": {
    "colab": {
      "name": "PATHLOSS MODEL.ipynb",
      "provenance": [],
      "authorship_tag": "ABX9TyNZ7lojhb0riDsskdk1cmSo",
      "include_colab_link": true
    },
    "kernelspec": {
      "name": "python3",
      "display_name": "Python 3"
    }
  },
  "cells": [
    {
      "cell_type": "markdown",
      "metadata": {
        "id": "view-in-github",
        "colab_type": "text"
      },
      "source": [
        "<a href=\"https://colab.research.google.com/github/pandu24-net/tugas4/blob/main/PATHLOSS_MODEL.ipynb\" target=\"_parent\"><img src=\"https://colab.research.google.com/assets/colab-badge.svg\" alt=\"Open In Colab\"/></a>"
      ]
    },
    {
      "cell_type": "markdown",
      "metadata": {
        "id": "A_UcA7Gge6wc"
      },
      "source": [
        "nama :Muhammad Pandu Wirakusuma \r\n",
        "NIM : 1101190098"
      ]
    },
    {
      "cell_type": "code",
      "metadata": {
        "id": "KYF3X96gezm5"
      },
      "source": [
        "import numpy as np\r\n"
      ],
      "execution_count": 1,
      "outputs": []
    },
    {
      "cell_type": "code",
      "metadata": {
        "id": "1z-R4obTfBfu"
      },
      "source": [
        "def plc231(d,fc,area,ht,hr):\r\n",
        "  #hitung c1 dan c2 berdasarkan input fc\r\n",
        "  if fc in range(400,1500):\r\n",
        "    c1=69.55\r\n",
        "    c2=26.16\r\n",
        "  elif fc in range(1500,2000):\r\n",
        "    c1=46.3\r\n",
        "    c2=33.9\r\n",
        "\r\n",
        "  #hitung nilai a(hr)\r\n",
        "  ahr=(1.1*np.log10(fc)-0.7)*hr - (1.56*np.log10(fc)-0.8)\r\n",
        "\r\n",
        "  #hitung nilai cm\r\n",
        "  if area==\"urban\":\r\n",
        "    cm=0\r\n",
        "  elif area==\"suburban\":\r\n",
        "    cm=-2*(np.log10(fc/28)**2)-5.4\r\n",
        "  elif area==\"open\":\r\n",
        "    cm=-4.78*(np.log10(fc)**2)+18.33*np.log(fc)-40.94 \r\n",
        "\r\n",
        "  #hitung nilai pathloss\r\n",
        "  Lp = c1 + c2*np.log10(fc) - 13.83*np.log10(ht) - ahr + (44.9 - 6.55*np.log10(hr))*np.log10(d) + cm\r\n",
        "\r\n",
        "  return Lp"
      ],
      "execution_count": 2,
      "outputs": []
    },
    {
      "cell_type": "code",
      "metadata": {
        "colab": {
          "base_uri": "https://localhost:8080/"
        },
        "id": "ob-DSeQ4fDba",
        "outputId": "3f6d253b-6a10-4d3a-a24b-5e359b585e6a"
      },
      "source": [
        "#parameter : (jarak(km), frekuensi(MHz), tipe area(urban/suburban/open), tinggi antena pemancar(m), tinggi antena penerima(m))\r\n",
        "pathlossc231=plc231(10, 1200, \"urban\", 100, 20)\r\n",
        "print(\"Pathloss dalam dB : \",pathlossc231,\" dB\")"
      ],
      "execution_count": 3,
      "outputs": [
        {
          "output_type": "stream",
          "text": [
            "Pathloss dalam dB :  109.08117025579332  dB\n"
          ],
          "name": "stdout"
        }
      ]
    },
    {
      "cell_type": "code",
      "metadata": {
        "colab": {
          "base_uri": "https://localhost:8080/"
        },
        "id": "73C4omL-fGAY",
        "outputId": "fdcea95d-a3b4-4f7b-ef9d-db04f3d46acc"
      },
      "source": [
        "pathlossc231=plc231(15, 1700, \"suburban\", 150, 30)\r\n",
        "print(\"Pathloss dalam dB : \",pathlossc231,\" dB\")"
      ],
      "execution_count": 4,
      "outputs": [
        {
          "output_type": "stream",
          "text": [
            "Pathloss dalam dB :  74.01895442309983  dB\n"
          ],
          "name": "stdout"
        }
      ]
    },
    {
      "cell_type": "code",
      "metadata": {
        "colab": {
          "base_uri": "https://localhost:8080/"
        },
        "id": "sbN2ZAlOfJSG",
        "outputId": "1501553b-8b4a-4f79-e040-6830846b6f59"
      },
      "source": [
        "pathlossc231=plc231(15, 1800, \"open\", 200, 30)\r\n",
        "print(\"Pathloss dalam dB : \",pathlossc231,\" dB\")"
      ],
      "execution_count": 5,
      "outputs": [
        {
          "output_type": "stream",
          "text": [
            "Pathloss dalam dB :  129.91295472587836  dB\n"
          ],
          "name": "stdout"
        }
      ]
    }
  ]
}